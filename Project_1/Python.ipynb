{
 "cells": [
  {
   "cell_type": "markdown",
   "metadata": {},
   "source": [
    "### Name"
   ]
  },
  {
   "cell_type": "code",
   "execution_count": null,
   "metadata": {},
   "outputs": [],
   "source": [
    "x = int(input(\" write a number X : \"))\n",
    "y = int(input(\" write a number Y : \"))\n",
    "z = int (x + y)\n",
    "print(\"Value of Z is\", z)\n",
    "#print (x+y)\n"
   ]
  },
  {
   "cell_type": "code",
   "execution_count": null,
   "metadata": {},
   "outputs": [],
   "source": [
    "my_name= \"Karan\"\n",
    "print(my_name)\n",
    "my_name"
   ]
  },
  {
   "cell_type": "code",
   "execution_count": null,
   "metadata": {},
   "outputs": [],
   "source": [
    "age = 30\n",
    "#print (age)\n",
    "age"
   ]
  },
  {
   "cell_type": "code",
   "execution_count": null,
   "metadata": {},
   "outputs": [],
   "source": [
    "age = int(input (\"enter your age\"))\n",
    "julia_age = 32\n",
    "age_diff = age - julia_age\n",
    "#print (age_diff)\n",
    "if age_diff > 0 :\n",
    "    print (f\"you are {age_diff} years older than Julia\")\n",
    "elif age_diff == 0:\n",
    "    print (\"your age same as Julia\")   \n",
    "else:\n",
    "    print (f\"you are {-age_diff} years younger than Julia\")"
   ]
  },
  {
   "cell_type": "code",
   "execution_count": null,
   "metadata": {},
   "outputs": [],
   "source": [
    "# List always should be in squre bracket []. string in \"\" and numbers are ok without inverted comma\n",
    "#Class = [\"Leon\", \"Abdul\", \"Karan\", \"Killian\", \"Karan\"]\n",
    "Class = [8,6,3,4,3]\n",
    "# apend = insert\n",
    "#Class.insert (2 , \"Victor\")\n",
    "print (Class [0])  # first value = for that position must be put in the squre bracket [0]\n",
    "print (Class[-1])  # last value = for that position must be put in the squre bracket [-1] backside counting\n",
    "print (Class)\n",
    "\n",
    "# to convert list into set we use set () function. List are in [] and set are in {} but for conversion no {}requird\n",
    "# set is used to avoid Duplicate values in List\n",
    "Set_Class = set(Class)\n",
    "print (Set_Class)"
   ]
  },
  {
   "cell_type": "code",
   "execution_count": null,
   "metadata": {},
   "outputs": [],
   "source": [
    "# Class.remove () = Class.pop () = del Class ()\n",
    "# remove should be used with value. direct need to put value to be removed\n",
    "# pop without index delete last data from list\n",
    "# del without index delete complete list\n",
    "Class.remove (\"Victor\")\n",
    "print (Class)\n",
    "\n",
    "Class.pop (-1)\n",
    "print (Class)"
   ]
  },
  {
   "cell_type": "code",
   "execution_count": null,
   "metadata": {},
   "outputs": [],
   "source": [
    "#Sort = used to arrange list alphabitically\n",
    "Class.sort ()\n",
    "print (Class)\n",
    "#type of list\n",
    "print(type(Class))\n",
    "#length of list\n",
    "print(len (Class))"
   ]
  },
  {
   "cell_type": "code",
   "execution_count": null,
   "metadata": {},
   "outputs": [],
   "source": [
    "# Dictionary = always in curly bracket {} contains {\"key\" : \"value\"}\n",
    "age_list = {\"Leon\":25, \"Enzo\":22 , \"Abdul\" : 32, \"Karan\" : 32, \"Sergi\" : 34} \n",
    "# differnt 4 methods to display\n",
    "print (age_list)  \n",
    "#age_list\n",
    "#display (age_list)      \n",
    "#print(f\"{age_list}\")"
   ]
  },
  {
   "cell_type": "code",
   "execution_count": null,
   "metadata": {},
   "outputs": [],
   "source": [
    "print (age_list.keys()) #to show keys\n",
    "\n",
    "age_list.values() #to show Values"
   ]
  },
  {
   "cell_type": "code",
   "execution_count": null,
   "metadata": {},
   "outputs": [],
   "source": [
    "# to convert dictionaray to list we use List (dict.values())\n",
    "age_List2 = list (age_list.values())\n",
    "print (age_List2)\n",
    "#now sort the list\n",
    "age_List2.sort()\n",
    "print (age_List2)\n",
    "#sort without index automatically asending. for decending sorting need to write index (reverse = True)\n",
    "age_List2.sort(reverse=True)\n",
    "age_List2"
   ]
  },
  {
   "cell_type": "code",
   "execution_count": null,
   "metadata": {},
   "outputs": [],
   "source": [
    "# create List and show min-max values from list\n",
    "List_age = [25, 22, 30, 32, 42]\n",
    "List_age\n",
    "#smallest number use min(list)\n",
    "print ('smallest number of list is', min(List_age))\n",
    "#highest number from list max(list)\n",
    "max(List_age)"
   ]
  },
  {
   "cell_type": "code",
   "execution_count": null,
   "metadata": {},
   "outputs": [],
   "source": [
    "# for Loop used to excucute statements\n",
    "\n",
    "# create empty list\n",
    "List_entry = []\n",
    "#no of element in the list\n",
    "num = int(input('enter no of elements in the list'))\n",
    "#create loop to add value till num numbers\n",
    "for i in range (1, num + 1):\n",
    "    entry = int(input('eneter the number'))\n",
    "    List_entry.append(entry)\n",
    "print (f'complete list is {List_entry}')\n",
    "print (f'smallest number is {min(List_entry)}')\n",
    "print (f'highest number of list is {max(List_entry)}')\n"
   ]
  },
  {
   "cell_type": "code",
   "execution_count": null,
   "metadata": {},
   "outputs": [],
   "source": [
    "Name1 = [\"Leon\", \"Karan\", \"Abdul\", \"Enzo\", \"Killian\"]\n",
    "display (Name1)\n",
    "Name1.sort()  # to sort\n",
    "Name1\n",
    "for names in Name1:\n",
    "    print (names)"
   ]
  },
  {
   "cell_type": "code",
   "execution_count": null,
   "metadata": {},
   "outputs": [],
   "source": [
    "Age1 = [18, 29, 39, 40, 88, 27]\n",
    "Even = []\n",
    "Odd = []\n",
    "for age in Age1:\n",
    "    print (age)\n",
    "    if age % 2 == 0:\n",
    "        Even.append(age)\n",
    "    else:\n",
    "        Odd.append (age)   \n",
    "print (Even)\n",
    "print (Odd)\n",
    "print (min(Age1))\n",
    "print (max (Age1))"
   ]
  },
  {
   "cell_type": "code",
   "execution_count": null,
   "metadata": {},
   "outputs": [],
   "source": [
    "Birth_Year = [1992, 1995, 2005, 2010, 2007, 2006, 1994, 1996, 1979, 2001]\n",
    "Currentage = []\n",
    "RunYear = int(input(\"add current year\"))\n",
    "for year in Birth_Year:\n",
    "    print (year)\n",
    "    #Currentage = RunYear - Birth_Year (year) in this case of for loop year = Birth_Year\n",
    "    Currentage.append(RunYear - year)\n",
    "print (\"List of current age are\", Currentage )\n",
    "    "
   ]
  },
  {
   "cell_type": "code",
   "execution_count": null,
   "metadata": {},
   "outputs": [],
   "source": [
    "Customer_List = [{\"name\": \"Bob\", \"age\": 1999},{\"name\": \"Jack\", \"age\": 1995},{\"name\": \"Lisa\", \"age\": 2005},{\"name\": \"Maria\", \"age\": 2010},{\"name\": \"Ben\", \"age\": 2007},{\"name\": \"Emma\", \"age\": 2006},{\"name\": \"Oscar\", \"age\": 1994},{\"name\": \"Amy\", \"age\": 1996},{\"name\": \"Paul\", \"age\": 1979},{\"name\": \"Etta\", \"age\": 2008}]\n",
    "for cust in Customer_List:\n",
    "    print (cust)\n",
    "for cust in Customer_List:\n",
    "    print (\"customer Name is\", cust[\"name\"] , \"and\", \"customer age is\", 2024 - cust[\"age\"])\n",
    "    #in above line we call \"value\" from repected \"key\" with format = [\"key\"] --> it gives respective value of this key"
   ]
  },
  {
   "cell_type": "code",
   "execution_count": null,
   "metadata": {},
   "outputs": [],
   "source": [
    "for cust in Customer_List:\n",
    "    customer_age = 2024 - cust[\"age\"]\n",
    "    print (cust[\"name\"], customer_age)"
   ]
  },
  {
   "cell_type": "code",
   "execution_count": null,
   "metadata": {},
   "outputs": [],
   "source": [
    "ages = [20, 24, 14, 9, 12, 13, 25, 23, 40, 11]\n",
    "i = 0 \n",
    "n = len(ages)\n",
    "\n",
    "for i in range (n):\n",
    "    for j in range (0, n-i-1):\n",
    "        if ages[j] < ages [j+1]:\n",
    "            temp = ages[j]\n",
    "            ages[j] = ages [j+1]\n",
    "            ages [j+1] = temp\n",
    "i+=1\n",
    "\n",
    "print (ages)\n",
    "\n",
    "min_number = ages[-1]\n",
    "max_number = ages[0]\n",
    "\n",
    "ages.remove(min_number)\n",
    "print(ages)\n",
    "\n",
    "        "
   ]
  },
  {
   "cell_type": "code",
   "execution_count": null,
   "metadata": {},
   "outputs": [],
   "source": [
    "Birth_Year = [1999, 1995, 2005, 2010, 2007, 2006, 1994, 1996, 1979, 2001]\n",
    "for year in Birth_Year:\n",
    "    print (2024- year)"
   ]
  },
  {
   "cell_type": "code",
   "execution_count": null,
   "metadata": {},
   "outputs": [],
   "source": [
    "brith_year = [1833,1992,2001]\n",
    "age = []\n",
    "for year in brith_year:\n",
    "    age.append (2024 - year)\n",
    "print (\"age list is\", age)\n"
   ]
  },
  {
   "cell_type": "code",
   "execution_count": 82,
   "metadata": {},
   "outputs": [
    {
     "name": "stdout",
     "output_type": "stream",
     "text": [
      "[15, 13, 16, 18, 19, 10]\n"
     ]
    }
   ],
   "source": [
    "Berlin = [15,13,16,18,19,10,12]\n",
    "Munich = [7,13,15,20,19,18,10,16]\n",
    "common = []\n",
    "for x in Berlin:\n",
    "    for y in Munich:\n",
    "        if x == y:\n",
    "            common.append(x)\n",
    "        elif x != y :\n",
    "            y=y+1             \n",
    "print (common)"
   ]
  },
  {
   "cell_type": "code",
   "execution_count": 80,
   "metadata": {},
   "outputs": [
    {
     "name": "stdout",
     "output_type": "stream",
     "text": [
      "sorted list [9, 11, 12, 12, 13, 23, 24, 25, 25, 40]\n"
     ]
    }
   ],
   "source": [
    "ages = [25,24,12,9,12,13,25,23,40,11]\n",
    "i = len (ages)\n",
    "age_sort = []\n",
    "for x in range (0, i):\n",
    "    for y in range (x+1, i):\n",
    "        if ages[x] >= ages[y]:\n",
    "            ages[x], ages[y] = ages[y] , ages[x] # To swap the value between each other if condition true\n",
    "            #for above line we do have below 3 lines optional\n",
    "            #temp = ages [x]\n",
    "            #ages [x] = ages[y]\n",
    "            #ages[y] = temp\n",
    "            #print(\"This is iteration\",x,\" of ages;\",ages) ## Vimp to check how iteration working\n",
    "print (\"sorted list\", ages)\n",
    "    "
   ]
  },
  {
   "cell_type": "code",
   "execution_count": 77,
   "metadata": {},
   "outputs": [
    {
     "name": "stdout",
     "output_type": "stream",
     "text": [
      "{10, 13, 15, 16, 18, 19}\n"
     ]
    }
   ],
   "source": [
    "AGE = [15,13,16,18,19,15,10]\n",
    "AGE1 = set(AGE)\n",
    "print (AGE1)"
   ]
  },
  {
   "cell_type": "code",
   "execution_count": 153,
   "metadata": {},
   "outputs": [
    {
     "name": "stdout",
     "output_type": "stream",
     "text": [
      "15\n",
      "16\n",
      "18\n",
      "19\n",
      "15\n"
     ]
    },
    {
     "ename": "IndexError",
     "evalue": "list index out of range",
     "output_type": "error",
     "traceback": [
      "\u001b[1;31m---------------------------------------------------------------------------\u001b[0m",
      "\u001b[1;31mIndexError\u001b[0m                                Traceback (most recent call last)",
      "Cell \u001b[1;32mIn[153], line 8\u001b[0m\n\u001b[0;32m      5\u001b[0m \u001b[38;5;28mprint\u001b[39m (AGE [p])\n\u001b[0;32m      6\u001b[0m \u001b[38;5;28;01mfor\u001b[39;00m q \u001b[38;5;129;01min\u001b[39;00m \u001b[38;5;28mrange\u001b[39m (p\u001b[38;5;241m+\u001b[39m\u001b[38;5;241m1\u001b[39m, z):\n\u001b[0;32m      7\u001b[0m     \u001b[38;5;66;03m#print (AGE[p])\u001b[39;00m\n\u001b[1;32m----> 8\u001b[0m     \u001b[38;5;28;01mif\u001b[39;00m AGE[p] \u001b[38;5;241m!=\u001b[39m \u001b[43mAGE\u001b[49m\u001b[43m \u001b[49m\u001b[43m[\u001b[49m\u001b[43mq\u001b[49m\u001b[43m]\u001b[49m:\n\u001b[0;32m      9\u001b[0m         AGE [q] \u001b[38;5;241m=\u001b[39m AGE [q\u001b[38;5;241m+\u001b[39m\u001b[38;5;241m1\u001b[39m]\n\u001b[0;32m     10\u001b[0m         \u001b[38;5;28mprint\u001b[39m (AGE[q])\n",
      "\u001b[1;31mIndexError\u001b[0m: list index out of range"
     ]
    }
   ],
   "source": [
    "AGE = [15,13,16,18,19,15,10]\n",
    "z = len(AGE)\n",
    "#print (z)\n",
    "for p in range (0 , z+1):\n",
    "    print (AGE [p])\n",
    "    for q in range (p+1, z):\n",
    "        #print (AGE[p])\n",
    "        if AGE[p] != AGE [q]:\n",
    "            AGE [q] = AGE [q+1]\n",
    "            print (AGE[q])\n",
    "        elif AGE[p] == AGE [q]:\n",
    "           # print (p)\n",
    "            AGE.pop(p)  \n",
    "print (AGE)\n",
    "        "
   ]
  },
  {
   "cell_type": "code",
   "execution_count": 170,
   "metadata": {},
   "outputs": [
    {
     "name": "stdout",
     "output_type": "stream",
     "text": [
      "7\n",
      "P is 15\n",
      "q is 13\n",
      "16\n",
      "q is 16\n",
      "15\n",
      "q is 15\n",
      "result 15\n",
      "[13, 16, 15, 19, 10, 15]\n",
      "without duplicate [13, 16, 15, 19, 10, 15]\n",
      "P is 16\n",
      "q is 15\n",
      "19\n",
      "q is 19\n",
      "10\n",
      "q is 10\n",
      "15\n",
      "q is 15\n"
     ]
    },
    {
     "ename": "IndexError",
     "evalue": "list index out of range",
     "output_type": "error",
     "traceback": [
      "\u001b[1;31m---------------------------------------------------------------------------\u001b[0m",
      "\u001b[1;31mIndexError\u001b[0m                                Traceback (most recent call last)",
      "Cell \u001b[1;32mIn[170], line 16\u001b[0m\n\u001b[0;32m     13\u001b[0m     \u001b[38;5;28;01melif\u001b[39;00m AGE[p] \u001b[38;5;241m!=\u001b[39m AGE [q]:\n\u001b[0;32m     14\u001b[0m         \u001b[38;5;66;03m#AGE[q] == AGE [q+1]\u001b[39;00m\n\u001b[0;32m     15\u001b[0m         q \u001b[38;5;241m=\u001b[39m q \u001b[38;5;241m+\u001b[39m \u001b[38;5;241m1\u001b[39m\n\u001b[1;32m---> 16\u001b[0m         \u001b[38;5;28mprint\u001b[39m (\u001b[43mAGE\u001b[49m\u001b[43m \u001b[49m\u001b[43m[\u001b[49m\u001b[43mq\u001b[49m\u001b[43m]\u001b[49m)\n\u001b[0;32m     17\u001b[0m \u001b[38;5;28mprint\u001b[39m (\u001b[38;5;124m\"\u001b[39m\u001b[38;5;124mwithout duplicate\u001b[39m\u001b[38;5;124m\"\u001b[39m, AGE)\n",
      "\u001b[1;31mIndexError\u001b[0m: list index out of range"
     ]
    }
   ],
   "source": [
    "AGE = [15,13,16,15,19,10,15]\n",
    "z = len(AGE)\n",
    "print (z)\n",
    "for p in range (0 , z+1):\n",
    "    print (\"P is\", AGE [p])\n",
    "    for q in range (p+1, z+1):\n",
    "        print (\"q is\", AGE[q])\n",
    "        if AGE[p] == AGE [q]:\n",
    "            print (\"result\" , AGE [q])\n",
    "            AGE.remove(AGE [q])\n",
    "            print (AGE)\n",
    "            break\n",
    "        elif AGE[p] != AGE [q]:\n",
    "            #AGE[q] == AGE [q+1]\n",
    "            q = q + 1\n",
    "            print (AGE [q])\n",
    "    print (\"without duplicate\", AGE)"
   ]
  },
  {
   "cell_type": "code",
   "execution_count": 79,
   "metadata": {},
   "outputs": [
    {
     "name": "stdout",
     "output_type": "stream",
     "text": [
      "[15, 13, 16, 18, 19, 10]\n"
     ]
    }
   ],
   "source": [
    "AGE = [15,13,16,18,19,15,10]\n",
    "AGE2 = []\n",
    "for A in AGE:\n",
    "    if A not in AGE2:\n",
    "        AGE2.append(A)\n",
    "print (AGE2)"
   ]
  },
  {
   "cell_type": "code",
   "execution_count": 21,
   "metadata": {},
   "outputs": [],
   "source": [
    "string = input ('enter string with two words')\n",
    "def first_letter (string):\n",
    "    seprate = string.split ()\n",
    "    x= seprate[0][0] ## syntax is String [word position] [letter position] == eg. 2nd word 3rd letter == script [2][3]\n",
    "    y= seprate [1] [0]\n",
    "    print (x , y)\n",
    "    if x == y:\n",
    "        print ('first letter of two words are same')\n",
    "    else:\n",
    "        print ('first letter of two words are not same')"
   ]
  },
  {
   "cell_type": "code",
   "execution_count": 23,
   "metadata": {},
   "outputs": [
    {
     "name": "stdout",
     "output_type": "stream",
     "text": [
      "o M\n",
      "first letter of two words are not same\n"
     ]
    }
   ],
   "source": [
    "first_letter ('ohini Maran')"
   ]
  },
  {
   "cell_type": "code",
   "execution_count": 17,
   "metadata": {},
   "outputs": [],
   "source": [
    "def get_length (word):\n",
    "    print (\"length of word is\", len(word))\n",
    "    \n",
    "get_length('Hello')"
   ]
  },
  {
   "cell_type": "code",
   "execution_count": 26,
   "metadata": {},
   "outputs": [
    {
     "data": {
      "text/plain": [
       "'False'"
      ]
     },
     "execution_count": 26,
     "metadata": {},
     "output_type": "execute_result"
    }
   ],
   "source": [
    "def check_even (num):\n",
    "    if num %2 == 0:\n",
    "        return 'yes'\n",
    "    else:\n",
    "        return 'False'\n",
    "    \n",
    "check_even (7)\n",
    "    "
   ]
  },
  {
   "cell_type": "code",
   "execution_count": 38,
   "metadata": {},
   "outputs": [],
   "source": [
    "def age_check (list):\n",
    "    num1 = int (input ('put age need to be checked'))\n",
    "    for N in list:\n",
    "        if N == num1:\n",
    "            print ('number is present in list')\n",
    "    else:\n",
    "        return 'false'\n",
    "            \n",
    "    \n"
   ]
  },
  {
   "cell_type": "code",
   "execution_count": 33,
   "metadata": {},
   "outputs": [],
   "source": [
    "x =[10, 11, 12, 13]"
   ]
  },
  {
   "cell_type": "code",
   "execution_count": 45,
   "metadata": {},
   "outputs": [
    {
     "data": {
      "text/plain": [
       "'false'"
      ]
     },
     "execution_count": 45,
     "metadata": {},
     "output_type": "execute_result"
    }
   ],
   "source": [
    "age_check ([11, 15, 19])"
   ]
  }
 ],
 "metadata": {
  "kernelspec": {
   "display_name": "threeten",
   "language": "python",
   "name": "python3"
  },
  "language_info": {
   "codemirror_mode": {
    "name": "ipython",
    "version": 3
   },
   "file_extension": ".py",
   "mimetype": "text/x-python",
   "name": "python",
   "nbconvert_exporter": "python",
   "pygments_lexer": "ipython3",
   "version": "3.10.15"
  }
 },
 "nbformat": 4,
 "nbformat_minor": 2
}
