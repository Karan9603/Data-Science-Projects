{
 "cells": [
  {
   "cell_type": "code",
   "execution_count": null,
   "metadata": {
    "vscode": {
     "languageId": "plaintext"
    }
   },
   "outputs": [],
   "source": [
    "## Machine learning (ML) notes ##\n",
    "\n",
    "# ML is subfield of AI\n",
    "# ML allows programs to learn to recognize patterens on its own and make predictions.\n",
    "# types of ML\n",
    "    #supervised learning (labelled)\n",
    "    #unsupervised learning (not labelled)\n",
    "#supervised learning which is labelled data:\n",
    "# if catagorical --> result come as cataogry (low, medium , high) (yes, no) --> # it is clasification problem #\n",
    "# if numerical --> give nummerical result  --> # it is regression problem #\n",
    "\n",
    "## supervised learning -- here we give data and learn the machine or prepare the machine. \n",
    "    So when we have new data machine checks and give us result based on we learned the machine before.\n",
    "\n",
    "## unsupervised learning -- he we give data but without label. so machine gives output themself by making groups what machine thinks.\n",
    "\n",
    "## semisupervised -- here we give mixed data to machine and guid little bit like which group we wat in output\n",
    "\n",
    "## reinforcement learning -- here we give condition to machine to process inside. \n",
    "\n",
    "### Steps for clasification problem\n",
    "    # collect data\n",
    "    # prepare data - clean, organize, remove errors or missing values\n",
    "    # Chosse model - (eg. Naive Bayes, SVM)\n",
    "    # Train the model - its like giving the model a set of practice questions\n",
    "    # Evaluate the model - give new data and check results if work ok\n",
    "    # Fine-tune Model - do some last correction if needed so that result will be more accurate\n",
    "    # make the predictions - get the last result and handover furher\n",
    "\n",
    "# Model (Algorithms) for classification\n",
    "        logistic regression\n",
    "        decision Trees\n",
    "        Random Forest\n",
    "        Support Vector Machines (SVM)\n",
    "        K-Nearest Neighbours (KNN)\n",
    "        Naive Bayes\n",
    "        Gradient Boosting\n",
    "        Neural Networks\n",
    "        \n",
    "\n",
    "\n",
    "\n",
    "\n",
    "\n",
    "\n",
    "\n"
   ]
  }
 ],
 "metadata": {
  "language_info": {
   "name": "python"
  }
 },
 "nbformat": 4,
 "nbformat_minor": 2
}
