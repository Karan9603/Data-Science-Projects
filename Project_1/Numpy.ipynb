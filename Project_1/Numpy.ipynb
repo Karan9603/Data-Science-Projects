{
 "cells": [
  {
   "cell_type": "code",
   "execution_count": 1,
   "metadata": {},
   "outputs": [
    {
     "data": {
      "text/plain": [
       "array([[ 1,  2,  3],\n",
       "       [ 3,  4,  6],\n",
       "       [ 4,  7, 46]])"
      ]
     },
     "execution_count": 1,
     "metadata": {},
     "output_type": "execute_result"
    }
   ],
   "source": [
    "import numpy as np\n",
    "a = np.array([[1, 2, 3],[3, 4, 6],[4,7,46]])\n",
    "b = np.array ([[[2,5],[8,45]],[[22, 6],[43,9]]])\n",
    "a\n"
   ]
  },
  {
   "cell_type": "code",
   "execution_count": 2,
   "metadata": {},
   "outputs": [
    {
     "data": {
      "text/plain": [
       "3"
      ]
     },
     "execution_count": 2,
     "metadata": {},
     "output_type": "execute_result"
    }
   ],
   "source": [
    "b.ndim"
   ]
  },
  {
   "cell_type": "code",
   "execution_count": 3,
   "metadata": {},
   "outputs": [
    {
     "name": "stdout",
     "output_type": "stream",
     "text": [
      "[[1 2]\n",
      " [3 4]\n",
      " [4 7]]\n"
     ]
    }
   ],
   "source": [
    "print (a [ : , 0:2])"
   ]
  },
  {
   "cell_type": "code",
   "execution_count": 19,
   "metadata": {},
   "outputs": [
    {
     "data": {
      "text/plain": [
       "array([[1., 1., 1., 1., 1.],\n",
       "       [1., 1., 1., 1., 1.],\n",
       "       [1., 1., 1., 1., 1.]])"
      ]
     },
     "execution_count": 19,
     "metadata": {},
     "output_type": "execute_result"
    }
   ],
   "source": [
    "np.arange (2,20,2) ## give data from to to and last one is step up in sorted way\n",
    "\n",
    "np.ones((3,5)) # gives materix for bracket dimesion and all vaules are 1"
   ]
  },
  {
   "cell_type": "code",
   "execution_count": 11,
   "metadata": {},
   "outputs": [
    {
     "data": {
      "text/plain": [
       "array([[1., 0., 0., 0., 0.],\n",
       "       [0., 1., 0., 0., 0.],\n",
       "       [0., 0., 1., 0., 0.],\n",
       "       [0., 0., 0., 1., 0.],\n",
       "       [0., 0., 0., 0., 1.]])"
      ]
     },
     "execution_count": 11,
     "metadata": {},
     "output_type": "execute_result"
    }
   ],
   "source": [
    "np.linspace(1,10,10) # equal number of parts from to to\n",
    "np.eye(5)     # identity matrix\n"
   ]
  },
  {
   "cell_type": "code",
   "execution_count": 14,
   "metadata": {},
   "outputs": [
    {
     "data": {
      "text/plain": [
       "array([[0.6782333 , 0.37389587, 0.01554926, 0.98792372],\n",
       "       [0.93323848, 0.28376425, 0.22263786, 0.95808414],\n",
       "       [0.565596  , 0.18615104, 0.73394097, 0.48550143]])"
      ]
     },
     "execution_count": 14,
     "metadata": {},
     "output_type": "execute_result"
    }
   ],
   "source": [
    "np.random.rand(1)\n",
    "np.random.rand(3,4) # give bracket dimension matrix with values are inbetween 0 to 1 "
   ]
  },
  {
   "cell_type": "code",
   "execution_count": 15,
   "metadata": {},
   "outputs": [
    {
     "data": {
      "text/plain": [
       "array([3, 5, 8, 7, 5, 8, 2, 3, 5, 5, 1, 1, 8, 5, 4], dtype=int32)"
      ]
     },
     "execution_count": 15,
     "metadata": {},
     "output_type": "execute_result"
    }
   ],
   "source": [
    "np.random.randint(1,10,15) # gives values inbetween 1 to 10, last number is for number of values"
   ]
  },
  {
   "cell_type": "code",
   "execution_count": 16,
   "metadata": {},
   "outputs": [
    {
     "data": {
      "text/plain": [
       "array([[61, 32, 35, 29,  9, 65, 70, 91, 78, 67],\n",
       "       [75, 37, 28, 35, 43, 19, 87, 80, 66,  1],\n",
       "       [81, 31, 58, 16, 92, 81, 81, 49, 63, 98],\n",
       "       [96, 26, 27, 73, 12, 45, 92, 24, 94, 68],\n",
       "       [13, 55, 78, 18,  7,  4, 26, 27, 39, 65],\n",
       "       [31, 97, 66, 48, 94, 11, 13, 55, 88, 69],\n",
       "       [ 6, 99, 43, 13, 34, 99, 54, 17,  1, 82],\n",
       "       [56, 28, 77, 12, 99, 80, 31, 17, 56, 95],\n",
       "       [21, 87, 12, 29,  2,  3, 24, 95, 88,  3],\n",
       "       [78, 94, 27, 12, 45, 52, 39, 42, 56, 82]], dtype=int32)"
      ]
     },
     "execution_count": 16,
     "metadata": {},
     "output_type": "execute_result"
    }
   ],
   "source": [
    "np.random.randint(1,100,(10,10)) # here last value for dimension of matrix"
   ]
  },
  {
   "cell_type": "code",
   "execution_count": 17,
   "metadata": {},
   "outputs": [
    {
     "data": {
      "text/plain": [
       "array([ 0,  1,  2,  3,  4,  5,  6,  7,  8,  9, 10, 11, 12, 13, 14, 15, 16,\n",
       "       17, 18, 19, 20, 21, 22, 23, 24, 25, 26, 27, 28, 29, 30, 31, 32, 33,\n",
       "       34, 35, 36, 37, 38, 39, 40, 41, 42, 43, 44, 45, 46, 47, 48, 49])"
      ]
     },
     "execution_count": 17,
     "metadata": {},
     "output_type": "execute_result"
    }
   ],
   "source": [
    "b=np.arange(50) # gives numbers in sorted way from 0 to 49\n",
    "b"
   ]
  },
  {
   "cell_type": "code",
   "execution_count": 20,
   "metadata": {},
   "outputs": [
    {
     "data": {
      "text/plain": [
       "array([[ 0,  1,  2,  3,  4,  5,  6,  7,  8,  9],\n",
       "       [10, 11, 12, 13, 14, 15, 16, 17, 18, 19],\n",
       "       [20, 21, 22, 23, 24, 25, 26, 27, 28, 29],\n",
       "       [30, 31, 32, 33, 34, 35, 36, 37, 38, 39],\n",
       "       [40, 41, 42, 43, 44, 45, 46, 47, 48, 49]])"
      ]
     },
     "execution_count": 20,
     "metadata": {},
     "output_type": "execute_result"
    }
   ],
   "source": [
    "b=np.arange(50).reshape(5, 10) # to change above values to materix\n",
    "b"
   ]
  },
  {
   "cell_type": "code",
   "execution_count": 21,
   "metadata": {},
   "outputs": [
    {
     "name": "stdout",
     "output_type": "stream",
     "text": [
      "2.1.2 <function show at 0x000001D630B0F130>\n",
      "stand. deviation is 6.881860213634101\n",
      "vari is 47.36\n",
      "mean is 12.8\n",
      "meadian is 12.0\n",
      "Deviation from mean line [-4.8 -0.8  3.2 11.2 -8.8]\n",
      "Sum of deviation is -3.552713678800501e-15\n"
     ]
    },
    {
     "data": {
      "text/plain": [
       "<function numpy.info(object=None, maxwidth=76, output=None, toplevel='numpy')>"
      ]
     },
     "execution_count": 21,
     "metadata": {},
     "output_type": "execute_result"
    }
   ],
   "source": [
    "#standard deviation ## variance # mean # median\n",
    "import numpy as np\n",
    "print (np.__version__, np.show_config) # Numpy Version and configration\n",
    "a = [8, 12 , 16 , 24, 4]\n",
    "print (\"stand. deviation is\", np.std(a))\n",
    "print (\"vari is\", np.var(a))\n",
    "m = np.mean(a)\n",
    "print (\"mean is\",m)\n",
    "med = np.median(a)\n",
    "print (\"meadian is\",med)\n",
    "#mod = np.(st.mode(a))\n",
    "b = a - m\n",
    "print (\"Deviation from mean line\", b)\n",
    "Total = np.sum(b)\n",
    "print (\"Sum of deviation is\", Total)\n",
    "np.info\n",
    "\n",
    "\n"
   ]
  },
  {
   "cell_type": "code",
   "execution_count": 24,
   "metadata": {},
   "outputs": [
    {
     "name": "stdout",
     "output_type": "stream",
     "text": [
      "x is (3, 4)\n",
      "y is 12\n"
     ]
    }
   ],
   "source": [
    "p = np.array ([[1,2,3,4], [5,6,7,8], [9, 10, 11, 12]])\n",
    "p [:2,1:3]\n",
    "\n",
    "np.eye(10) # identity matrix of 10\n",
    "x = np.shape(p) # dim of matrix\n",
    "print (\"x is\", x)\n",
    "y = np.size(p)\n",
    "print (\"y is\", y)\n",
    "\n",
    "\n"
   ]
  },
  {
   "cell_type": "code",
   "execution_count": null,
   "metadata": {},
   "outputs": [],
   "source": [
    "## excercise 8\n",
    "\n",
    "a = [9,12,17,20,13,10,6,5,3]\n",
    "print (\"median is\" ,np.median(a))\n",
    "print (\"mean is\" ,np.mean(a))\n",
    "\n",
    "\n",
    "##excercise 9\n",
    "\n",
    "salary = [25,40,35,50]\n",
    "print (\"std deviation is\" ,np.std(salary))\n",
    "\n",
    "salary1 = [25,25,25,40,40,35,50,50,50,50]\n",
    "print (\"std deviation is\" ,np.std(salary1))\n"
   ]
  },
  {
   "cell_type": "code",
   "execution_count": 28,
   "metadata": {},
   "outputs": [
    {
     "data": {
      "text/plain": [
       "array([49, 48, 47, 46, 45, 44, 43, 42, 41, 40, 39, 38, 37, 36, 35, 34, 33,\n",
       "       32, 31, 30, 29, 28, 27, 26, 25, 24, 23, 22, 21, 20, 19, 18, 17, 16,\n",
       "       15, 14, 13, 12, 11, 10])"
      ]
     },
     "execution_count": 28,
     "metadata": {},
     "output_type": "execute_result"
    }
   ],
   "source": [
    "y=np.zeros(10)\n",
    "y[4] = 1\n",
    "y\n",
    "x = np.arange(10,50)\n",
    "x = x [::-1]  ## reverse\n",
    "x\n",
    "\n",
    "\n"
   ]
  },
  {
   "cell_type": "code",
   "execution_count": 29,
   "metadata": {},
   "outputs": [
    {
     "data": {
      "text/plain": [
       "array([[ 0,  1,  2],\n",
       "       [ 3,  4,  5],\n",
       "       [ 6,  7,  8],\n",
       "       [ 9, 10, 11]])"
      ]
     },
     "execution_count": 29,
     "metadata": {},
     "output_type": "execute_result"
    }
   ],
   "source": [
    "z=np.arange(12).reshape(4,3)\n",
    "z"
   ]
  },
  {
   "cell_type": "code",
   "execution_count": 30,
   "metadata": {},
   "outputs": [
    {
     "data": {
      "text/plain": [
       "array([[6, 1, 4],\n",
       "       [1, 4, 2],\n",
       "       [1, 2, 4]], dtype=int32)"
      ]
     },
     "execution_count": 30,
     "metadata": {},
     "output_type": "execute_result"
    }
   ],
   "source": [
    "np.random.randint(0,8,(3,3))"
   ]
  },
  {
   "cell_type": "code",
   "execution_count": 33,
   "metadata": {},
   "outputs": [
    {
     "data": {
      "text/plain": [
       "[1, 2, 0, 0, 3]"
      ]
     },
     "execution_count": 33,
     "metadata": {},
     "output_type": "execute_result"
    }
   ],
   "source": [
    "d = [1,2,0,0,3]\n",
    "d\n"
   ]
  },
  {
   "cell_type": "code",
   "execution_count": 36,
   "metadata": {},
   "outputs": [
    {
     "ename": "TypeError",
     "evalue": "'>' not supported between instances of 'list' and 'int'",
     "output_type": "error",
     "traceback": [
      "\u001b[1;31m---------------------------------------------------------------------------\u001b[0m",
      "\u001b[1;31mTypeError\u001b[0m                                 Traceback (most recent call last)",
      "Cell \u001b[1;32mIn[36], line 2\u001b[0m\n\u001b[0;32m      1\u001b[0m d \u001b[38;5;241m=\u001b[39m [\u001b[38;5;241m1\u001b[39m,\u001b[38;5;241m2\u001b[39m,\u001b[38;5;241m0\u001b[39m,\u001b[38;5;241m0\u001b[39m,\u001b[38;5;241m3\u001b[39m]\n\u001b[1;32m----> 2\u001b[0m \u001b[38;5;28mprint\u001b[39m (\u001b[38;5;124m\"\u001b[39m\u001b[38;5;124mis it\u001b[39m\u001b[38;5;124m\"\u001b[39m,d[\u001b[43md\u001b[49m\u001b[38;5;241;43m>\u001b[39;49m\u001b[38;5;241;43m0\u001b[39;49m])\n",
      "\u001b[1;31mTypeError\u001b[0m: '>' not supported between instances of 'list' and 'int'"
     ]
    }
   ],
   "source": [
    "d = [1,2,0,0,3]\n",
    "print (\"is it\",d[d>0])"
   ]
  },
  {
   "cell_type": "code",
   "execution_count": 37,
   "metadata": {},
   "outputs": [
    {
     "data": {
      "text/plain": [
       "array([[1., 1., 1., 1., 1., 1., 1., 1., 1., 1.],\n",
       "       [1., 0., 0., 0., 0., 0., 0., 0., 0., 1.],\n",
       "       [1., 0., 0., 0., 0., 0., 0., 0., 0., 1.],\n",
       "       [1., 0., 0., 0., 0., 0., 0., 0., 0., 1.],\n",
       "       [1., 0., 0., 0., 0., 0., 0., 0., 0., 1.],\n",
       "       [1., 0., 0., 0., 0., 0., 0., 0., 0., 1.],\n",
       "       [1., 0., 0., 0., 0., 0., 0., 0., 0., 1.],\n",
       "       [1., 0., 0., 0., 0., 0., 0., 0., 0., 1.],\n",
       "       [1., 0., 0., 0., 0., 0., 0., 0., 0., 1.],\n",
       "       [1., 1., 1., 1., 1., 1., 1., 1., 1., 1.]])"
      ]
     },
     "execution_count": 37,
     "metadata": {},
     "output_type": "execute_result"
    }
   ],
   "source": [
    "x = np.ones((10,10))\n",
    "x\n",
    "x[1:-1,1:-1] = 0\n",
    "x"
   ]
  },
  {
   "cell_type": "code",
   "execution_count": 38,
   "metadata": {},
   "outputs": [
    {
     "data": {
      "text/plain": [
       "array([[ 1,  8,  3, 28, 18, 16],\n",
       "       [28,  1, 25,  5, 22,  5],\n",
       "       [ 1,  1,  9, 10, 18, 11],\n",
       "       [ 6, 25, 23, 17, 26, 21],\n",
       "       [15,  8, 16, 16,  7, 18]], dtype=int32)"
      ]
     },
     "execution_count": 38,
     "metadata": {},
     "output_type": "execute_result"
    }
   ],
   "source": [
    "m = np.random.randint(1,30,(5,6))\n",
    "m\n"
   ]
  },
  {
   "cell_type": "code",
   "execution_count": 39,
   "metadata": {},
   "outputs": [
    {
     "data": {
      "text/plain": [
       "np.float64(13.6)"
      ]
     },
     "execution_count": 39,
     "metadata": {},
     "output_type": "execute_result"
    }
   ],
   "source": [
    "np.mean(m)"
   ]
  },
  {
   "cell_type": "code",
   "execution_count": 12,
   "metadata": {},
   "outputs": [
    {
     "name": "stdout",
     "output_type": "stream",
     "text": [
      "     name  degree  score\n",
      "0   Sunil     MBA     90\n",
      "1  pankaj     BCA     40\n",
      "2  sudhir  M.Tech     80\n",
      "3   Geeku     MBA     98\n"
     ]
    }
   ],
   "source": [
    "import pandas as pd\n",
    "dict = {'name':[\"Sunil\", \"pankaj\", \"sudhir\", \"Geeku\"],\n",
    "'degree': [\"MBA\", \"BCA\", \"M.Tech\", \"MBA\"],\n",
    "'score':[90, 40, 80, 98]}\n",
    "data = pd.DataFrame(dict)\n",
    "print (data)"
   ]
  },
  {
   "cell_type": "code",
   "execution_count": 13,
   "metadata": {},
   "outputs": [
    {
     "name": "stdout",
     "output_type": "stream",
     "text": [
      "          name  degree  score\n",
      "green    Sunil     MBA     90\n",
      "yellow  pankaj     BCA     40\n",
      "white   sudhir  M.Tech     80\n",
      "blue     Geeku     MBA     98\n"
     ]
    }
   ],
   "source": [
    "#data.loc['Sunil']\n",
    "data.index = ['green','yellow','white','blue']\n",
    "print (data)"
   ]
  }
 ],
 "metadata": {
  "kernelspec": {
   "display_name": "threeten",
   "language": "python",
   "name": "python3"
  },
  "language_info": {
   "codemirror_mode": {
    "name": "ipython",
    "version": 3
   },
   "file_extension": ".py",
   "mimetype": "text/x-python",
   "name": "python",
   "nbconvert_exporter": "python",
   "pygments_lexer": "ipython3",
   "version": "3.10.15"
  }
 },
 "nbformat": 4,
 "nbformat_minor": 2
}
