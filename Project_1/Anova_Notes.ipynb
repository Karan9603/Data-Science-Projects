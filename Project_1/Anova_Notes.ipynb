{
 "cells": [
  {
   "cell_type": "code",
   "execution_count": null,
   "metadata": {
    "vscode": {
     "languageId": "plaintext"
    }
   },
   "outputs": [],
   "source": [
    "## ANOVA ## it have environment from scipy\n",
    "\n",
    "# z test for only two groups test\n",
    "# Anova for multiple grop test (more than 2 groups) - anova analys variance\n",
    "# variance is data apoint distnce from mean line.\n",
    "    if variance is less that means all datpoint are closer to mean line\n",
    "    if variance is high that means most of datpoint are larger range from mean line\n",
    "# std. deviation = squre root of variance\n",
    "# f- value = ratio of variance within the grp to between groups. less the number means less we confirm that groups are different.\n",
    "    generally high f value shows groups are different\n",
    "# p- value = p = 0.05 . it is probabity of getting that range value\n",
    "# alpha - it shows the cutoff point. that need to be defined. Lower the alpha lower the risk of getting false result. \n",
    "    it need to be set alpha very carefully to cut down data\n",
    "\n",
    "\n"
   ]
  }
 ],
 "metadata": {
  "language_info": {
   "name": "python"
  }
 },
 "nbformat": 4,
 "nbformat_minor": 2
}
